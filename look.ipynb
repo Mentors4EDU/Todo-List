# QuantPortal's Strategy Sample

## Abstract

The aim of this notebook is to ...
- Experiment with a basic ipynb environment
- Test some of the data flow features on an introductry level
- Perhaps work with the Jupyter Notebook Embeddable Tutorials
- See techniques for how to sync with some financial data explorers


# Prerequisites 

- [Jupyter Notebook](https://jupyter.org/)
- [Data Explorer APIs](https://duckduckgo.com/?q=Data+explorer+apis&t=hk&ia=web)


# Next step

- [Notebook title](https://www.alphien.com/mynotebooks/........)
- 
-
-

# Table of content

[1. Loading Alphien's function](#load)<br>
[2. Title of section 2](#sec2)<br>
[3. Title of section 3](#sec3)<br>
[4. Title of section 4](#sec4)<br>


<a id='load'></a>
# 1. Loading Alphien's function

# .sourceAlfunction()

<a id='sec2'></a>
# 2. Title of section 2

## 2.1 Title of section 2.1

## 2.2 Title of section 2.2

<a id='sec3'></a>
# 3. Title of section 3

<a id='sec4'></a>
# 4. Title of section 4
